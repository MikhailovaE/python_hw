{
 "cells": [
  {
   "cell_type": "markdown",
   "metadata": {},
   "source": [
    "## Задание № 0 (для знакомых с LaTeX)\n",
    "\n",
    "Наберите в LaTeX формулу (для дробей использовать &bsol;frac и &bsol;cfrac (для многоэтажных))\n",
    "\n",
    "![Я что-то нажал и всё пропало](https://a.radikal.ru/a06/1810/7a/228b571a4336.png)"
   ]
  },
  {
   "cell_type": "markdown",
   "metadata": {},
   "source": [
    "## Задание № 1\n",
    "\n",
    "Напишите функцию, которой на вход подаются \n",
    "- начальное целое значение ($a$, по умолчанию = 1000) \n",
    "- конечное целое значение ($b$, по умолчанию = 5000). \n",
    "\n",
    "Программа должна вывести список всех чисел между $a$ и $b$, в записи которых только чётные числа."
   ]
  },
  {
   "cell_type": "code",
   "execution_count": 1,
   "metadata": {},
   "outputs": [],
   "source": [
    "def contains_no_odd_digits(num):\n",
    "    while abs(num) > 0.1:\n",
    "        if num % 10 in [1, 3, 5, 7, 9]:\n",
    "            return False\n",
    "        num //= 10\n",
    "    return True\n",
    "\n",
    "def print_all_numbers_between_containing_only_even_digits(a: int, b: int):\n",
    "    for i in range(a + 1, b):\n",
    "        if contains_no_odd_digits(i):\n",
    "            print(i)"
   ]
  },
  {
   "cell_type": "code",
   "execution_count": 2,
   "metadata": {},
   "outputs": [],
   "source": [
    "print_all_numbers_between_containing_only_even_digits(10, 30)"
   ]
  },
  {
   "cell_type": "markdown",
   "metadata": {},
   "source": [
    "## Задание № 2\n",
    "\n",
    "Напишите функцию от двух аргументов $n$, $m$, которая выводит каждый $m$-е из первых $n$ строк треугольника Паскаля.\n",
    "\n",
    "Примеры вызовов: \n",
    "```python\n",
    "    pascal_triangle(10)\n",
    "```\n",
    "должен вывести первые 10 строк;\n",
    "\n",
    "\n",
    "```python\n",
    "    pascal_triangle(10, step = 3)\n",
    "```\n",
    "должен вывести 1, 4, 7, 10 строки.\n",
    "\n",
    "```python\n",
    "    pascal_triangle(10, 3)\n",
    "```\n",
    "Ошибка TypeError                                 \n",
    "\n",
    "__Подсказка__: может понадобится функция __zip__. Она позволяет итерироваться сразу по нескольким итерируемым объектам:\n",
    "\n",
    "```python\n",
    "a = [10, 20, 30, 40]\n",
    "b = ['a', 'b', 'c', 'd', 'e']\n",
    "c = [1.0, 3.0, 5.0, 8.0, 9.0, 11.0]\n",
    "for i, j, k in zip(a, b, c):\n",
    "     print(i, j, k)\n",
    "```"
   ]
  },
  {
   "cell_type": "code",
   "execution_count": 3,
   "metadata": {},
   "outputs": [],
   "source": [
    "from math import factorial"
   ]
  },
  {
   "cell_type": "code",
   "execution_count": 4,
   "metadata": {},
   "outputs": [],
   "source": [
    "def pascal_triangle(max_row, *, step=1):\n",
    "    out = ''\n",
    "    for n in range(0, max_row, step):\n",
    "        n_factorial = factorial(n)\n",
    "        \n",
    "        row = []\n",
    "        for k in range(n + 1):\n",
    "            row.append(int(n_factorial / factorial(k) / factorial(n-k)))\n",
    "        print(*row)"
   ]
  },
  {
   "cell_type": "code",
   "execution_count": 5,
   "metadata": {},
   "outputs": [
    {
     "name": "stdout",
     "output_type": "stream",
     "text": [
      "1\n",
      "1 3 3 1\n",
      "1 6 15 20 15 6 1\n",
      "1 9 36 84 126 126 84 36 9 1\n"
     ]
    }
   ],
   "source": [
    "pascal_triangle(10, step=3)"
   ]
  },
  {
   "cell_type": "markdown",
   "metadata": {},
   "source": [
    "## Задание № 3\n",
    "\n",
    "Напишите функцию, принимающую произвольное число произвольных аргументов и возвращающая словарь с парами \n",
    "```\n",
    "<название_типа данных>: <количество элементов этого типа данных среди переданных аргументов> \n",
    "```"
   ]
  },
  {
   "cell_type": "code",
   "execution_count": 6,
   "metadata": {},
   "outputs": [],
   "source": [
    "def count_by_type(*args):\n",
    "    d = {}\n",
    "    for a in args:\n",
    "        t = type(a)\n",
    "        if t in d.keys():\n",
    "            d[t] += 1\n",
    "        else:\n",
    "            d[t] = 1\n",
    "    return d"
   ]
  },
  {
   "cell_type": "code",
   "execution_count": 7,
   "metadata": {},
   "outputs": [
    {
     "data": {
      "text/plain": [
       "{int: 4, str: 2, range: 1, builtin_function_or_method: 1, function: 1}"
      ]
     },
     "execution_count": 7,
     "metadata": {},
     "output_type": "execute_result"
    }
   ],
   "source": [
    "count_by_type(1, 2, 'ab', 'cd', 1, 3, range(4), factorial, pascal_triangle)"
   ]
  },
  {
   "cell_type": "markdown",
   "metadata": {},
   "source": [
    "## Задание № 4\n",
    "Напишите собственную реализацию стандартных тригонометрических (и не только) функций - $cos, sin, ln, e$\n",
    "\n",
    "- Оформьте в ячейке markdown соответствующие формулы.\n",
    "- Напишите функции my_sin(), my_cos(), ... - аргументы - **углы**, не радианы\n",
    "- Проверьте, чтобы считалось и от комплексного аргумента\n",
    "- Сравните (удобным вам способом) полученные вами результаты с результатами стандартных методов "
   ]
  },
  {
   "cell_type": "code",
   "execution_count": 8,
   "metadata": {},
   "outputs": [
    {
     "name": "stdout",
     "output_type": "stream",
     "text": [
      "3.141592653589793\n",
      "0.5000000000000001\n",
      "0.7071067811865476\n"
     ]
    }
   ],
   "source": [
    "import math\n",
    "import cmath\n",
    "# перевод из градусов в радианы\n",
    "print(math.radians(180))\n",
    "# косинус\n",
    "print(math.cos(math.radians(60))) \n",
    "# cинус\n",
    "print(math.sin(math.radians(45)))  \n",
    "# и так далее"
   ]
  },
  {
   "cell_type": "code",
   "execution_count": 9,
   "metadata": {},
   "outputs": [],
   "source": [
    "def my_sin(angle):\n",
    "    angle = angle / 180 * math.pi\n",
    "    return ((math.e ** (1j * angle) - math.e ** (-1j * angle)) / 2j).real"
   ]
  },
  {
   "cell_type": "code",
   "execution_count": 10,
   "metadata": {},
   "outputs": [],
   "source": [
    "def my_cos(angle):\n",
    "    angle = angle / 180 * math.pi\n",
    "    return ((math.e ** (1j * angle) + math.e ** (-1j * angle)) / 2).real"
   ]
  },
  {
   "cell_type": "code",
   "execution_count": 11,
   "metadata": {},
   "outputs": [
    {
     "name": "stdout",
     "output_type": "stream",
     "text": [
      "0.8660254037844386 \t 0.8660254037844386\n",
      "0.7071067811865474 \t 0.7071067811865474\n",
      "0.5000000000000001 \t 0.5000000000000001\n",
      "0.7071067811865477 \t 0.7071067811865477\n"
     ]
    }
   ],
   "source": [
    "print(my_sin(60), '\\t', math.sin(math.radians(60)))\n",
    "print(my_sin(405), '\\t', math.sin(math.radians(405)))\n",
    "print(my_cos(60), '\\t', math.cos(math.radians(60)))\n",
    "print(my_cos(405), '\\t', math.cos(math.radians(405)))"
   ]
  }
 ],
 "metadata": {
  "kernelspec": {
   "display_name": "Python 3",
   "language": "python",
   "name": "python3"
  },
  "language_info": {
   "codemirror_mode": {
    "name": "ipython",
    "version": 3
   },
   "file_extension": ".py",
   "mimetype": "text/x-python",
   "name": "python",
   "nbconvert_exporter": "python",
   "pygments_lexer": "ipython3",
   "version": "3.7.3"
  }
 },
 "nbformat": 4,
 "nbformat_minor": 2
}
