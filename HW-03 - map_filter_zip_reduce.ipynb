{
 "cells": [
  {
   "cell_type": "markdown",
   "metadata": {},
   "source": [
    "# Задача № 1\n",
    "\n",
    "Дан массив чисел, содержащий значение температуры за последний 10 дней (сгенерируйте массив чисел с плавающей точкой от 10 до 25).\n",
    "\n",
    "- Рассчитайте массив чисел, который содежит соответствующие значения в [Фаренгейтах](https://ru.wikipedia.org/wiki/%D0%93%D1%80%D0%B0%D0%B4%D1%83%D1%81_%D0%A4%D0%B0%D1%80%D0%B5%D0%BD%D0%B3%D0%B5%D0%B9%D1%82%D0%B0).\n",
    "\n",
    "- Рассчитайте массив чисел, который преобразует значения в Фаренгейтах в значения по [Кельвину](https://ru.wikipedia.org/wiki/%D0%9A%D0%B5%D0%BB%D1%8C%D0%B2%D0%B8%D0%BD)\n",
    "\n",
    "- Значения по Кельвину преобразуйте в градусы Цельсия и сравните полученный результат с исходным массивом (выведите разность)."
   ]
  },
  {
   "cell_type": "code",
   "execution_count": 1,
   "metadata": {},
   "outputs": [],
   "source": [
    "from random import randint\n",
    "\n",
    "def generate_array(a, b, *, count=10):\n",
    "    return [randint(a, b) for _ in range(count)]"
   ]
  },
  {
   "cell_type": "code",
   "execution_count": 2,
   "metadata": {},
   "outputs": [],
   "source": [
    "def celsius_to_fahrenheit(temp):\n",
    "    return [t * 1.8 + 32 for t in temp]\n",
    "\n",
    "def celsius_to_kelvin(temp):\n",
    "    return [t + 273.15 for t in temp]\n",
    "\n",
    "def kelvin_to_celsius(temp):\n",
    "    return [t - 273.15 for t in temp]\n",
    "\n",
    "def fahrenheit_to_celsius(temp):\n",
    "    return [(t - 32) / 1.8 for t in temp]"
   ]
  },
  {
   "cell_type": "code",
   "execution_count": 3,
   "metadata": {},
   "outputs": [
    {
     "name": "stdout",
     "output_type": "stream",
     "text": [
      "[12, 11, 20, 17, 24, 16, 10, 12, 22, 13]\n",
      "[53.6, 51.8, 68.0, 62.6, 75.2, 60.8, 50.0, 53.6, 71.6, 55.400000000000006]\n"
     ]
    }
   ],
   "source": [
    "temps = generate_array(10, 25, count=10)\n",
    "print(temps)\n",
    "f_temps = celsius_to_fahrenheit(temps)\n",
    "print(f_temps)"
   ]
  },
  {
   "cell_type": "code",
   "execution_count": 4,
   "metadata": {},
   "outputs": [
    {
     "name": "stdout",
     "output_type": "stream",
     "text": [
      "Разница между исходными значениями и конвертированными в шкалу Фаренгейта и обратно:\n",
      "[0.0, 1.7763568394002505e-15, 0.0, 0.0, 0.0, 1.7763568394002505e-15, 0.0, 0.0, 3.552713678800501e-15, 3.552713678800501e-15]\n"
     ]
    }
   ],
   "source": [
    "diffs = []\n",
    "c_temps = fahrenheit_to_celsius(f_temps)\n",
    "for i in range(len(temps)):\n",
    "    diffs.append(abs(temps[i] - c_temps[i]))\n",
    "print('Разница между исходными значениями и конвертированными в шкалу Фаренгейта и обратно:')\n",
    "print(diffs)"
   ]
  },
  {
   "cell_type": "markdown",
   "metadata": {},
   "source": [
    "# Задача № 2\n",
    "\n",
    "Дан словарь.\n",
    "Напишите функцию, которая возвращает словарь, состоящий из элементов исходного с ключами типа String.\n",
    "\n",
    "Например:  \n",
    "\n",
    "`Вход`: \n",
    "```python\n",
    "{'x':2, 4:'y', 4.0:'12', '3':'fdfs', 'a':9., b'pp':52}\n",
    "```\n",
    "\n",
    "`Выход`:\n",
    "```python\n",
    "{'x': 2, '3': 'fdfs', 'a': 9.0}\n",
    "```"
   ]
  },
  {
   "cell_type": "code",
   "execution_count": 5,
   "metadata": {},
   "outputs": [],
   "source": [
    "def filter_string_keys_in_dict(d):\n",
    "    out = {}\n",
    "    for k in d.keys():\n",
    "        if type(k) == str:\n",
    "            out[k] = d[k]\n",
    "    return out"
   ]
  },
  {
   "cell_type": "code",
   "execution_count": 6,
   "metadata": {},
   "outputs": [
    {
     "data": {
      "text/plain": [
       "{'a': 'b', 'd': 5}"
      ]
     },
     "execution_count": 6,
     "metadata": {},
     "output_type": "execute_result"
    }
   ],
   "source": [
    "filter_string_keys_in_dict({'a':'b', 3:'c', 'd':5, filter_string_keys_in_dict:'kek'})"
   ]
  },
  {
   "cell_type": "markdown",
   "metadata": {},
   "source": [
    "# Задача № 3\n",
    "\n",
    "- Сгенерируйте два массива $a$ и $b$ одинаковой случайной длины $n$ (от 4 до 8 чисел) случайных чисел от 1 до 10\n",
    "- Посчитайте $\\prod\\limits_{i = 0}^{n-1} (a[i] + b[n-1-i])$, используя только функции __map, zip, filter, reduce__"
   ]
  },
  {
   "cell_type": "code",
   "execution_count": 7,
   "metadata": {},
   "outputs": [],
   "source": [
    "from functools import reduce"
   ]
  },
  {
   "cell_type": "code",
   "execution_count": 8,
   "metadata": {},
   "outputs": [
    {
     "name": "stdout",
     "output_type": "stream",
     "text": [
      "a = [3, 7, 10, 1]\n",
      "b = [1, 5, 2, 4]\n",
      "1890\n"
     ]
    }
   ],
   "source": [
    "n = randint(4, 8)\n",
    "a = generate_array(1, 10, count=n)\n",
    "b = generate_array(1, 10, count=n)\n",
    "\n",
    "print('a =', a)\n",
    "print('b =', b)\n",
    "print(reduce(lambda x, y: x * y,map(lambda x, y: x + y, a, reduce(lambda x, y: [y] + x, b, []))))"
   ]
  }
 ],
 "metadata": {
  "kernelspec": {
   "display_name": "Python 3",
   "language": "python",
   "name": "python3"
  },
  "language_info": {
   "codemirror_mode": {
    "name": "ipython",
    "version": 3
   },
   "file_extension": ".py",
   "mimetype": "text/x-python",
   "name": "python",
   "nbconvert_exporter": "python",
   "pygments_lexer": "ipython3",
   "version": "3.7.3"
  }
 },
 "nbformat": 4,
 "nbformat_minor": 2
}
